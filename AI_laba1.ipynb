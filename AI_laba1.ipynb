{
 "cells": [
  {
   "cell_type": "markdown",
   "id": "cc9b8733-1ee0-42dd-833a-98d3aa38d7a2",
   "metadata": {},
   "source": [
    "1. Базовые типы переменных"
   ]
  },
  {
   "cell_type": "code",
   "execution_count": 11,
   "id": "2ebe21ad-7b0c-4bcf-9649-a077b15290c4",
   "metadata": {},
   "outputs": [],
   "source": [
    "int_variable = 5 # int\n",
    "assert isinstance(int_variable, int)\n",
    "\n",
    "float_variable = 5.1  # float\n",
    "assert isinstance(float_variable, float)\n",
    "\n",
    "string_variable = \"5\"  # string\n",
    "assert isinstance(string_variable, str)\n",
    "\n",
    "bool_variable = True  # bool\n",
    "assert isinstance(bool_variable, bool)\n",
    "\n",
    "list_variable = []  # list\n",
    "assert isinstance(list_variable, list)\n",
    "\n",
    "tuple_variable = (\"Vlad\", \"Olupkin\")  # tuple\n",
    "assert isinstance(tuple_variable, tuple)\n",
    "\n",
    "set_variable = {1, 2, 3, 4, 5}  # set\n",
    "assert isinstance(set_variable, set)\n",
    "\n",
    "dict_variable = {\n",
    "    \"Name\" : \"Vlad\",\n",
    "    \"Surname\" : \"Olupkin\"\n",
    "} # dict\n",
    "assert isinstance(dict_variable, dict)"
   ]
  },
  {
   "cell_type": "markdown",
   "id": "ac45c6f5-3055-4d7d-9e17-0382eb9e5beb",
   "metadata": {},
   "source": [
    "2.1 Различные функции"
   ]
  },
  {
   "cell_type": "code",
   "execution_count": 14,
   "id": "08ba318e-e222-47e0-861e-0ea75c21f2b4",
   "metadata": {},
   "outputs": [],
   "source": [
    "def difference_of_two_numbers(first, second):\n",
    "    result = first - second\n",
    "    return result\n",
    "    \n",
    "assert difference_of_two_numbers(2, 1) == 1\n",
    "assert difference_of_two_numbers(4, 1) == 3\n",
    "assert difference_of_two_numbers(10, 0) == 10\n",
    "assert difference_of_two_numbers(-5, -6) == 1"
   ]
  },
  {
   "cell_type": "code",
   "execution_count": 15,
   "id": "3800db6b-91bb-4cc6-8793-c49e55b92028",
   "metadata": {},
   "outputs": [],
   "source": [
    "def condition_function(input_number):\n",
    "    \"\"\"\n",
    "    Если входное число меньше либо равно 0, то умножить его на 2.\n",
    "    В противном случае, если число больше 0, но меньше или равно 10, умножить на 3.\n",
    "    Во всех прочих случаях поделить на 10.\n",
    "    \"\"\"\n",
    "    if input_number <= 0:\n",
    "        return input_number * 2\n",
    "    elif 0 < input_number <= 10:\n",
    "        return input_number * 3\n",
    "    else:\n",
    "        return input_number / 10\n",
    "    \n",
    "\n",
    "\n",
    "assert condition_function(0) == 0\n",
    "assert condition_function(-1) == -2\n",
    "assert condition_function(1) == 3\n",
    "assert condition_function(10) == 30\n",
    "assert condition_function(11) == 1.1\n",
    "assert condition_function(20) == 2"
   ]
  },
  {
   "cell_type": "code",
   "execution_count": 18,
   "id": "029528be-fb04-48ae-b97a-cee2c02c4614",
   "metadata": {},
   "outputs": [],
   "source": [
    "def calculator(number_1, operation, number_2):\n",
    "    \"\"\"\n",
    "    Простой оператор, способный выполнять операции +, -, *, /.\n",
    "    На входе первое число, операция в виде строки и второе число.\n",
    "    \n",
    "    Пример: \n",
    "    >>> calculator(1, \"+\", 1)\n",
    "    >>> 2\n",
    "    \"\"\"\n",
    "    if operation == \"+\":\n",
    "        return number_1 + number_2\n",
    "    elif operation == \"-\":\n",
    "        return number_1 - number_2\n",
    "    elif operation == \"*\":\n",
    "        return number_1 * number_2\n",
    "    elif operation == \"/\":\n",
    "        return number_1 / number_2\n",
    "    else:\n",
    "        raise ValueError(\"Неверная операция\")\n",
    "\n",
    "\n",
    "assert calculator(1, \"+\", 2) == 3\n",
    "assert calculator(3, \"-\", 1) == 2\n",
    "assert calculator(4, \"*\", 3) == 12\n",
    "assert calculator(2, \"/\", 2) == 1"
   ]
  },
  {
   "cell_type": "code",
   "execution_count": 19,
   "id": "0b00a06e-b47c-46a6-9954-6c395a01c882",
   "metadata": {},
   "outputs": [],
   "source": [
    "def number_of_unique_elements(input_list):\n",
    "    \"\"\"\n",
    "    Считает количество уникальных элементов в листе.\n",
    "    \"\"\"\n",
    "    return len(set(input_list))\n",
    "\n",
    "\n",
    "assert number_of_unique_elements([1, 2, 3]) == 3\n",
    "assert number_of_unique_elements([1] * 93) == 1\n",
    "assert number_of_unique_elements(list(range(1000))) == 1000"
   ]
  },
  {
   "cell_type": "code",
   "execution_count": null,
   "id": "f285d54a-ba15-4b65-ae2c-e8e0f9bc229d",
   "metadata": {},
   "outputs": [],
   "source": [
    "def counter(input_list):\n",
    "    \"\"\"\n",
    "    Считает количество вхождений каждого из элементов листа.\n",
    "    Возвращает словарь вида {число: количество вхождений}\n",
    "    \n",
    "    Замечание (!): встроенным в collections Counter'ом пользоваться нельзя\n",
    "    \n",
    "    Например:\n",
    "    counter([1, 1, 2, 3]) вернет {1: 2, 2: 1, 3: 1}\n",
    "    \"\"\"\n",
    "    count_dict = {}\n",
    "    for item in input_list:\n",
    "        if item in count_dict:\n",
    "            count_dict[item] += 1\n",
    "        else:\n",
    "            count_dict[item] = 1\n",
    "    return count_dict\n",
    "\n",
    "\n",
    "assert counter([1, 1, 1, 2, 3]) == {1: 3, 2: 1, 3: 1}\n",
    "assert counter([1] * 1000) == {1: 1000}\n",
    "assert counter([1, 3, 5] * 100) == {1: 100, 3: 100, 5: 100}"
   ]
  },
  {
   "cell_type": "code",
   "execution_count": null,
   "id": "f142271b-88e5-471f-a7f7-b032dde3ef77",
   "metadata": {},
   "outputs": [],
   "source": [
    "def multiply_nums(input_string):\n",
    "    \"\"\"\n",
    "    Перемножить числа, переданные в строке, перечисленные через запятую.\n",
    "    \n",
    "    hint: можно использовать метод .split()\n",
    "    \"\"\"\n",
    "    numbers = input_string.split(\", \") \n",
    "    result = 1\n",
    "    for num in numbers:\n",
    "        result *= int(num)  \n",
    "    return result\n",
    "\n",
    "\n",
    "assert multiply_nums(\"2, 3\") == 6\n",
    "assert multiply_nums(\"1, 1, 1, 1, 1, 1, 1\") == 1\n",
    "assert multiply_nums(\"345, 4576, 794, 325, 0\") == 0"
   ]
  },
  {
   "attachments": {},
   "cell_type": "markdown",
   "id": "c9e2c98d-778b-4eea-9768-415449b31cfd",
   "metadata": {},
   "source": [
    "Реализовать функцию : y = sinx * cosx"
   ]
  },
  {
   "cell_type": "code",
   "execution_count": 22,
   "id": "e7a53ca8-ab48-417b-80b0-6244e8212f0d",
   "metadata": {},
   "outputs": [],
   "source": [
    "import math\n",
    "\n",
    "def custom_function(x):\n",
    "    \"\"\"\n",
    "    Реализуйте функцию, описанную выше.\n",
    "    \"\"\"\n",
    "    return math.sin(x) * math.cos(x)\n",
    "    \n",
    "\n",
    "assert round(custom_function(1), 3) == 0.455\n",
    "assert round(custom_function(1.5), 3) == 0.071\n",
    "assert round(custom_function(2), 3) == -0.378\n",
    "assert custom_function(0) == 0"
   ]
  },
  {
   "cell_type": "markdown",
   "id": "d2860fc6-22c2-4310-8bf0-dae25efe486f",
   "metadata": {},
   "source": [
    "Функция y = произв((n+2)**x + lnx) / (x**2 + 4n)"
   ]
  },
  {
   "cell_type": "code",
   "execution_count": 26,
   "id": "7e1b2593-14bc-4de4-a03a-bed061faacaf",
   "metadata": {},
   "outputs": [],
   "source": [
    "import math\n",
    "from functools import reduce\n",
    "def custom_function_1(x, N):\n",
    "    def term(n):\n",
    "        numerator = (n + 2) ** x + math.log(x)\n",
    "        denominator = x ** 2 + 4 * n\n",
    "        return numerator / denominator\n",
    "\n",
    "    return reduce(lambda acc, n: acc * term(n), range(1, N + 1), 1) # для последовательного умножения для всех n от 1 до N \n",
    "\n",
    "\n",
    "assert round(custom_function_1(2, 3), 3) == 2.707\n",
    "assert round(custom_function_1(3, 2), 3) == 8.277\n",
    "assert round(custom_function_1(3, 3), 3) == 49.7"
   ]
  },
  {
   "cell_type": "markdown",
   "id": "b6efbafe-a8df-4270-bd67-875ea8686c27",
   "metadata": {},
   "source": [
    "2.2 Задачки на написание функций\n",
    "1.Дано число n. С начала суток прошло n минут. Определите, сколько часов и минут будут показывать электронные часы в этот момент. Программа должна вывести два числа: количество часов (от 0 до 23) и количество минут (от 0 до 59). Учтите, что число n может быть больше, чем количество минут в сутках."
   ]
  },
  {
   "cell_type": "code",
   "execution_count": 27,
   "id": "d33b3e45-0030-445a-892d-065d05d10c4d",
   "metadata": {},
   "outputs": [],
   "source": [
    "def time_converter(n):\n",
    "    \n",
    "    minutes_in_a_day = 24 * 60\n",
    "    n = n % minutes_in_a_day\n",
    "    \n",
    "    hours = n // 60\n",
    "    minutes = n % 60\n",
    "    \n",
    "    return f\"{hours} {minutes}\"\n",
    "\n",
    "assert time_converter(2782) == '22 22'\n",
    "assert time_converter(4733) == '6 53'\n",
    "assert time_converter(1766) == '5 26'\n",
    "assert time_converter(3865) == '16 25'\n",
    "assert time_converter(4628) == '5 8'\n",
    "assert time_converter(4353) == '0 33'\n",
    "assert time_converter(268) == '4 28'\n",
    "assert time_converter(4373) == '0 53'\n",
    "assert time_converter(2722) == '21 22'\n",
    "assert time_converter(1531) == '1 31'"
   ]
  },
  {
   "cell_type": "markdown",
   "id": "836ec9bb-8132-4afc-a375-37c58c982529",
   "metadata": {},
   "source": [
    "2.Написать функцию, которая выводит минимум из трех чисел. Использовать min нельзя. Только if."
   ]
  },
  {
   "cell_type": "code",
   "execution_count": 30,
   "id": "d6441418-ca4a-4a68-bcf1-9dc83034b698",
   "metadata": {},
   "outputs": [],
   "source": [
    "def min_of_three_values(a, b, c):\n",
    "    if a <= b and a <= c:  \n",
    "        return a\n",
    "    elif b <= a and b <= c:  \n",
    "        return b\n",
    "    else:\n",
    "        return c\n",
    "\n",
    "assert min_of_three_values(1, 2, 3) == 1\n",
    "assert min_of_three_values(1, 1, 9) == 1\n",
    "assert min_of_three_values(18, 7, 11) == 7\n",
    "assert min_of_three_values(2, 10, 10) == 2\n",
    "assert min_of_three_values(17, 14, 17) == 14\n",
    "assert min_of_three_values(9, 2, 10) == 2\n",
    "assert min_of_three_values(7, 4, 7) == 4\n",
    "assert min_of_three_values(0, 8, 3) == 0\n",
    "assert min_of_three_values(8, 10, 6) == 6\n",
    "assert min_of_three_values(1, 4, 8) == 1"
   ]
  },
  {
   "cell_type": "markdown",
   "id": "f0615700-1db4-4b0f-b08b-28610630ed8f",
   "metadata": {},
   "source": [
    "3.Удаление символа из строки. Необходимо использовать встроенный метод .replace()"
   ]
  },
  {
   "cell_type": "code",
   "execution_count": 31,
   "id": "436bcab5-0685-42cf-bfcc-b07bd39ccbea",
   "metadata": {},
   "outputs": [],
   "source": [
    "def remove_symbol(input_string, symbol):\n",
    "    return input_string.replace(symbol, '')\n",
    "\n",
    "assert remove_symbol('aaaaaaaa', 'a') == ''\n",
    "assert remove_symbol('abababa', 'b') == 'aaaa'\n",
    "assert remove_symbol('12341234', '3') == '124124'"
   ]
  },
  {
   "cell_type": "markdown",
   "id": "42794625-1068-49a0-b927-ca6e35123d78",
   "metadata": {},
   "source": [
    "4.Удаление каждого 3 символа из строки"
   ]
  },
  {
   "cell_type": "code",
   "execution_count": 34,
   "id": "faf2f607-88a2-49b8-93dc-f9c5ef2c2d2a",
   "metadata": {},
   "outputs": [],
   "source": [
    "def remove_each_third_sym(input_string):\n",
    "    \n",
    "    result = ''\n",
    "    \n",
    "    for i in range(len(input_string)):\n",
    "        \n",
    "        if (i + 1) % 3 != 0:\n",
    "            result += input_string[i]\n",
    "            \n",
    "    return result\n",
    "    \n",
    "assert remove_each_third_sym('abcdef') == 'abde'\n",
    "assert remove_each_third_sym('sdfasdfasdfsfa') == 'sdasfadffa'\n",
    "assert remove_each_third_sym('123456789') == '124578'\n",
    "assert remove_each_third_sym('987654321') == '986532'"
   ]
  },
  {
   "cell_type": "markdown",
   "id": "5a6fdd96-ee85-4c5f-8cbd-f493fe56ba06",
   "metadata": {},
   "source": [
    "5.Вывести максимальный элемент и его индекс в листе"
   ]
  },
  {
   "cell_type": "code",
   "execution_count": 37,
   "id": "fb83c24c-7982-4d40-87fe-7e2add5d3f50",
   "metadata": {},
   "outputs": [],
   "source": [
    "def find_max(lst):\n",
    "    # Предполагаем, что первый элемент - максимальный\n",
    "    max_value = lst[0]\n",
    "    max_index = 0\n",
    "    \n",
    "    \n",
    "    for i in range(1, len(lst)):\n",
    "        if lst[i] > max_value:\n",
    "            max_value = lst[i]\n",
    "            max_index = i\n",
    "            \n",
    "    return max_value, max_index\n",
    "    \n",
    "assert find_max([1, 2, 3, 4, 5]) == (5, 4)\n",
    "assert find_max([5, 4, 3, 2, 1]) == (5, 0)\n",
    "assert find_max([96, 82, 72, 48, 93, 88, 79]) == (96, 0)\n",
    "assert find_max([49, 75, 65, 65, 65, 18]) == (75, 1)\n",
    "assert find_max([69, 16, 64, 54, 36, 70, 89, 29]) == (89, 6)\n",
    "assert find_max([17, 80, 27, 36, 21, 85, 63, 27]) == (85, 5)\n",
    "assert find_max([76, 27, 73, 65, 52]) == (76, 0)\n",
    "assert find_max([33, 26, 69, 40, 93]) == (93, 4)\n",
    "assert find_max([87, 5, 95, 52, 21, 76, 22]) == (95, 2)\n",
    "assert find_max([75, 18, 89, 99, 70]) == (99, 3)"
   ]
  },
  {
   "cell_type": "markdown",
   "id": "b9c20293-39ef-46d2-be21-be5e22aec2f0",
   "metadata": {},
   "source": [
    "6.Вставить элемент в конец листа. Использовать метод append можно и нужно"
   ]
  },
  {
   "cell_type": "code",
   "execution_count": 38,
   "id": "25c7e256-4c34-4fe8-b60d-d22618d9113b",
   "metadata": {},
   "outputs": [],
   "source": [
    "def append_to_list(lst, value):\n",
    "    lst.append(value)\n",
    "    return lst\n",
    "    \n",
    "assert append_to_list([1, 2], 3) == [1, 2, 3]\n",
    "assert append_to_list([1, 2], None) == [1, 2, None]\n",
    "assert append_to_list([1, 's'], True) == [1, 's', True]"
   ]
  },
  {
   "cell_type": "markdown",
   "id": "502dafa3-480f-4b28-a53f-5c622f77fa1f",
   "metadata": {},
   "source": [
    "7.Количество уникальных чисел в листе. Нужно использовать множества (set)"
   ]
  },
  {
   "cell_type": "code",
   "execution_count": 39,
   "id": "b2e537d1-8ff0-4d43-b575-fd0dafd6fa18",
   "metadata": {},
   "outputs": [],
   "source": [
    "def number_unique_elements(lst):\n",
    "    unique_elements = set(lst)\n",
    "    return len(unique_elements)\n",
    "    \n",
    "assert number_unique_elements([1, 2, 3]) == 3\n",
    "assert number_unique_elements([1, 2, 1]) == 2\n",
    "assert number_unique_elements([1, 1, 1, 1]) == 1\n",
    "assert number_unique_elements([1, 2, 1, 2]) == 2"
   ]
  },
  {
   "cell_type": "markdown",
   "id": "2d14318e-2f3c-4633-a206-e947ad91aa4f",
   "metadata": {},
   "source": [
    "3. Классы\n",
    "Напишите класс Vehicle с двумя атрибутами -- максимальная скорость (max_speed) и пробег (mileage)\n",
    "Необходимо реализовать только метод-конструктор __init__"
   ]
  },
  {
   "cell_type": "code",
   "execution_count": 41,
   "id": "77288bcf-06dd-4d50-98e6-42d7d99c9360",
   "metadata": {},
   "outputs": [],
   "source": [
    "class Vehicle:\n",
    "    def __init__(self, max_speed, mileage):\n",
    "        self.max_speed = max_speed\n",
    "        self.mileage = mileage\n",
    "\n",
    "veh1 = Vehicle(100, 50)\n",
    "assert (veh1.max_speed, veh1.mileage) == (100, 50)\n",
    "\n",
    "veh2 = Vehicle(200, 3)\n",
    "assert (veh2.max_speed, veh2.mileage) == (200, 3)"
   ]
  },
  {
   "cell_type": "markdown",
   "id": "1b2f94e3-6fad-4636-b669-2ce6b414117b",
   "metadata": {},
   "source": [
    "Напишите класс Truck, который наследуется от Vehicle\n",
    "P.S. Наследование возможно при помощи конструкции class Subclass(MotherClass):"
   ]
  },
  {
   "cell_type": "code",
   "execution_count": 43,
   "id": "fb33515b-a674-4bc7-bacd-a90f26e732e2",
   "metadata": {},
   "outputs": [],
   "source": [
    "class Truck(Vehicle):\n",
    "    def __init__(self, max_speed, mileage):\n",
    "        \n",
    "        super().__init__(max_speed, mileage)\n",
    "\n",
    "\n",
    "truck1 = Truck(50, 1000)\n",
    "assert (truck1.max_speed, truck1.mileage) == (50, 1000)\n",
    "\n",
    "truck2 = Truck(43, 235)\n",
    "assert (truck2.max_speed, truck2.mileage) == (43, 235)"
   ]
  },
  {
   "cell_type": "markdown",
   "id": "2a2de70f-2be1-4428-bcea-d39b29a49027",
   "metadata": {},
   "source": [
    "Напишите класс MyList с функционалом, как описано ниже"
   ]
  },
  {
   "cell_type": "code",
   "execution_count": 46,
   "id": "47585ffc-ef4b-4d78-a84c-58e8824e9590",
   "metadata": {},
   "outputs": [],
   "source": [
    "class MyList:\n",
    "    def __init__(self, initial_list):\n",
    "        # Инициализируем класс с переданным списком\n",
    "        self.data = initial_list\n",
    "\n",
    "    def return_sum(self):\n",
    "        \"\"\"\n",
    "        Возвращает сумму всех элементов сохраненного листа.\n",
    "        Пользоваться sum нельзя!\n",
    "        \"\"\"\n",
    "        total = 0\n",
    "        for item in self.data:\n",
    "            total += item\n",
    "        return total\n",
    "\n",
    "    def make_reverse(self):\n",
    "        \"\"\"\n",
    "        Разворачивает сохраненный лист и возвращает новый перевернутый список.\n",
    "        \"\"\"\n",
    "        reversed_list = []\n",
    "        for item in self.data:\n",
    "            reversed_list.insert(0, item)  # Вставляем элемент в начало\n",
    "        return reversed_list  # Возвращаем перевернутый список\n",
    "\n",
    "    def make_slice(self, start, stop):\n",
    "        \"\"\"\n",
    "        Делает слайсинг сохраненного листа.\n",
    "        \"\"\"\n",
    "        return self.data[start:stop]  # Возвращаем срез списка\n",
    "\n",
    "\n",
    "# Примеры использования и проверки:\n",
    "a = MyList([1, 2, 3, 4])\n",
    "assert a.return_sum() == 10\n",
    "assert a.make_reverse() == [4, 3, 2, 1]\n",
    "assert a.make_slice(0, 2) == [1, 2]\n",
    "\n",
    "b = MyList([5, 6, 6, 5])\n",
    "assert b.return_sum() == 22\n",
    "assert b.make_reverse() == [5, 6, 6, 5]\n",
    "assert b.make_slice(1, 2) == [6]"
   ]
  },
  {
   "cell_type": "code",
   "execution_count": null,
   "id": "2d10b0ca-59a8-4d56-89ac-8dec0d436970",
   "metadata": {},
   "outputs": [],
   "source": []
  }
 ],
 "metadata": {
  "kernelspec": {
   "display_name": "Python 3 (ipykernel)",
   "language": "python",
   "name": "python3"
  },
  "language_info": {
   "codemirror_mode": {
    "name": "ipython",
    "version": 3
   },
   "file_extension": ".py",
   "mimetype": "text/x-python",
   "name": "python",
   "nbconvert_exporter": "python",
   "pygments_lexer": "ipython3",
   "version": "3.12.6"
  }
 },
 "nbformat": 4,
 "nbformat_minor": 5
}
