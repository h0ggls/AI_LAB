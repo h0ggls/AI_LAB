{
 "cells": [
  {
   "cell_type": "markdown",
   "id": "dc223a3c-bd3b-43b3-8e9a-a17f37bfb783",
   "metadata": {},
   "source": [
    "1.Загрузить необходимые данные к себе и считать (read) их в переменную."
   ]
  },
  {
   "cell_type": "code",
   "execution_count": 23,
   "id": "dffeb434-3abf-43c8-a3ec-7899976596c5",
   "metadata": {},
   "outputs": [],
   "source": [
    "import pandas as pd\n",
    "   \n",
    "file_path = 'C:/Users/Влад/Downloads/NY-House-Dataset.csv'\n",
    "data = pd.read_csv(file_path)"
   ]
  },
  {
   "cell_type": "markdown",
   "id": "8a80cc46-92da-4666-b98e-5def30ed0fe6",
   "metadata": {},
   "source": [
    "2.Понять, у вас задача классификации (бинарной или многоклассовой) или регрессии."
   ]
  },
  {
   "cell_type": "markdown",
   "id": "28a085f4-5a02-40a0-bf7b-ce9052f7f616",
   "metadata": {},
   "source": [
    "можно сделать вывод, что у нас задача регрессии.\n",
    "Это определяется следующими факторами:\n",
    "Целевая переменная: В данном случае целевой переменной является \"PRICE\" (цена недвижимости).\n",
    "Тип данных целевой переменной: \"PRICE\" представлена числовыми значениями (int64 или float64).\n",
    "Количество уникальных значений: В столбце \"PRICE\" наблюдается большое количество уникальных значений, что характерно для непрерывных данных.\n",
    "Диапазон значений: Цены варьируются от 69,000 до 195,000,000, что указывает на широкий и непрерывный диапазон значений.\n",
    "Природа задачи: Прогнозирование цены недвижимости обычно является задачей регрессии, так как цель состоит в предсказании конкретного числового значения, а не отнесении к определенному классу.\n",
    "Таким образом, учитывая характер целевой переменной и специфику задачи, мы имеем дело с задачей регрессии, где целью является предсказание непрерывной величины - цены недвижимости."
   ]
  },
  {
   "cell_type": "markdown",
   "id": "c7f7cb34-6cb7-4f17-a5d1-ff6afec4cfe8",
   "metadata": {},
   "source": [
    "3.Сделать предобработку данных:"
   ]
  },
  {
   "cell_type": "markdown",
   "id": "416ffe8a-c48f-4b47-8898-04738327a9dc",
   "metadata": {},
   "source": [
    "A.Разделить выборку на тренировочную (train) и тестовую (test). Обратите внимание, что обучать скейлеры и определять, какими значениями вы будете заполнять пропуски, вы будете на train выборке, а применять и на train, и на test."
   ]
  },
  {
   "cell_type": "code",
   "execution_count": 24,
   "id": "557cc24c-e026-431f-9612-0a523506d382",
   "metadata": {
    "scrolled": true
   },
   "outputs": [
    {
     "data": {
      "text/plain": [
       "((3840, 17),\n",
       " (961, 17),\n",
       "                                    BROKERTITLE            TYPE    PRICE  BEDS  \\\n",
       " 2851  Brokered by Signature Premier Properties  Co-op for sale   255000     1   \n",
       " 3262          Brokered by Brown Harris Stevens  Co-op for sale   160000     1   \n",
       " 4577                   Brokered by Papa Realty  Co-op for sale   498000     2   \n",
       " 1774                    Brokered by EXP Realty         Pending   555000     3   \n",
       " 1957         Brokered by Trademarko Realty Inc  House for sale  1475000     5   \n",
       " \n",
       "       BATH  PROPERTYSQFT                     ADDRESS                  STATE  \\\n",
       " 2851   1.0   2184.207862  245-18 62nd Ave Unit Upper  Little Neck, NY 11362   \n",
       " 3262   1.0   2184.207862   5601 Riverdale Ave Apt 3S        Bronx, NY 10471   \n",
       " 4577   2.0   2184.207862        17-85 215 St Unit 6H      Bayside, NY 11360   \n",
       " 1774   1.0   1504.000000           80-07 Margaret Pl     Glendale, NY 11385   \n",
       " 1957   3.0   2637.000000               53-30 61st St      Maspeth, NY 11378   \n",
       " \n",
       "                                          MAIN_ADDRESS  \\\n",
       " 2851  245-18 62nd Ave Unit UpperLittle Neck, NY 11362   \n",
       " 3262         5601 Riverdale Ave Apt 3SBronx, NY 10471   \n",
       " 4577            17-85 215 St Unit 6HBayside, NY 11360   \n",
       " 1774              80-07 Margaret PlGlendale, NY 11385   \n",
       " 1957                   53-30 61st StMaspeth, NY 11378   \n",
       " \n",
       "      ADMINISTRATIVE_AREA_LEVEL_2       LOCALITY    SUBLOCALITY  \\\n",
       " 2851               United States       New York  Queens County   \n",
       " 3262                    New York   Bronx County      The Bronx   \n",
       " 4577                    New York  Queens County         Queens   \n",
       " 1774               United States       New York  Queens County   \n",
       " 1957               United States       New York  Queens County   \n",
       " \n",
       "           STREET_NAME       LONG_NAME  \\\n",
       " 2851           Queens     62nd Avenue   \n",
       " 3262  North Riverdale            5601   \n",
       " 4577         Flushing           17-85   \n",
       " 1774           Queens  Margaret Place   \n",
       " 1957           Queens     61st Street   \n",
       " \n",
       "                                  FORMATTED_ADDRESS   LATITUDE  LONGITUDE  \n",
       " 2851    245-18 62nd Ave, Douglaston, NY 11362, USA  40.755562 -73.731668  \n",
       " 3262  5601 Riverdale Ave #3s, Bronx, NY 10471, USA  40.904882 -73.905111  \n",
       " 4577   17-85 215th St #6k, Flushing, NY 11360, USA  40.784301 -73.776196  \n",
       " 1774    80-07 Margaret Pl, Flushing, NY 11385, USA  40.705861 -73.856597  \n",
       " 1957         53-30 61st St, Maspeth, NY 11378, USA  40.729123 -73.904268  ,\n",
       "                                   BROKERTITLE            TYPE    PRICE  BEDS  \\\n",
       " 596   Brokered by Island Advantage Realty LLC     Foreclosure   750000     4   \n",
       " 4507            Brokered by Empire Fine Homes  House for sale   899000     4   \n",
       " 3049    Brokered by Corcoran Chelsea/Flatiron  Co-op for sale  5900000     3   \n",
       " 2957           Brokered by Corcoran East Side  Condo for sale  1695000     1   \n",
       " 8              Brokered by Pantiga Group Inc.  Co-op for sale   265000     1   \n",
       " \n",
       "       BATH  PROPERTYSQFT                  ADDRESS                    STATE  \\\n",
       " 596    3.0        3098.0         3037 Richmond Rd  Staten Island, NY 10306   \n",
       " 4507   2.0        1400.0           35-13 103rd St         Corona, NY 11368   \n",
       " 3049   4.0        3000.0    410 W 24th St # 18BCE       New York, NY 10011   \n",
       " 2957   2.0        1072.0    70 Washington St Ph R       Brooklyn, NY 11201   \n",
       " 8      1.0         750.0  875 Morrison Ave Apt 3M          Bronx, NY 10473   \n",
       " \n",
       "                                  MAIN_ADDRESS ADMINISTRATIVE_AREA_LEVEL_2  \\\n",
       " 596   3037 Richmond RdStaten Island, NY 10306               United States   \n",
       " 4507           35-13 103rd StCorona, NY 11368                    New York   \n",
       " 3049  410 W 24th St # 18BCENew York, NY 10011                    New York   \n",
       " 2957  70 Washington St Ph RBrooklyn, NY 11201               United States   \n",
       " 8      875 Morrison Ave Apt 3MBronx, NY 10473                Bronx County   \n",
       " \n",
       "              LOCALITY      SUBLOCALITY      STREET_NAME          LONG_NAME  \\\n",
       " 596          New York  Richmond County    Staten Island      Richmond Road   \n",
       " 4507    Queens County           Queens         Flushing              51-13   \n",
       " 3049  New York County         New York        Manhattan                410   \n",
       " 2957         New York     Kings County         Brooklyn  Washington Street   \n",
       " 8           The Bronx       East Bronx  Morrison Avenue        Parking lot   \n",
       " \n",
       "                                       FORMATTED_ADDRESS   LATITUDE  LONGITUDE  \n",
       " 596      3037 Richmond Rd, Staten Island, NY 10306, USA  40.575824 -74.122734  \n",
       " 4507        51-13 103rd St #35, Flushing, NY 11368, USA  40.742172 -73.858274  \n",
       " 3049        410 W 24th St #18b, New York, NY 10011, USA  40.747208 -74.001338  \n",
       " 2957          70 Washington St, Brooklyn, NY 11201, USA  40.702035 -73.989907  \n",
       " 8     Parking lot, 875 Morrison Ave #3m, Bronx, NY 1...  40.821586 -73.874089  )"
      ]
     },
     "execution_count": 24,
     "metadata": {},
     "output_type": "execute_result"
    }
   ],
   "source": [
    "from sklearn.model_selection import train_test_split\n",
    "\n",
    "\n",
    "# Split into train and test datasets\n",
    "train_data, test_data = train_test_split(data, test_size=0.2, random_state=42)\n",
    "\n",
    "# Save the resulting dataframes for inspection\n",
    "train_data_head = train_data.head()\n",
    "test_data_head = test_data.head()\n",
    "train_data.shape, test_data.shape, train_data_head, test_data_head\n"
   ]
  },
  {
   "cell_type": "markdown",
   "id": "d7b4504d-0617-4601-a7e5-6517d3c8b006",
   "metadata": {},
   "source": [
    "Датасет был разделен на тренировочную (train) и тестовую (test) выборки с использованием функции train_test_split из библиотеки scikit-learn. Размер тестовой выборки составил 20% от общего объема данных:\n",
    "Тренировочная выборка: 3840 записей\n",
    "Тестовая выборка: 961 запись"
   ]
  },
  {
   "cell_type": "markdown",
   "id": "93ac3a40-2cab-467a-ad2e-735a80ad3b85",
   "metadata": {},
   "source": [
    "B.Проверить пропуски в данных. Если они есть, заполнить одной из стратегий, предложенных в ноутбуке для семинара №3."
   ]
  },
  {
   "cell_type": "code",
   "execution_count": 25,
   "id": "bdbf0f5c-7c64-4efe-9184-04ad757eb97e",
   "metadata": {
    "scrolled": true
   },
   "outputs": [
    {
     "data": {
      "text/plain": [
       "(BROKERTITLE                    0\n",
       " TYPE                           0\n",
       " PRICE                          0\n",
       " BEDS                           0\n",
       " BATH                           0\n",
       " PROPERTYSQFT                   0\n",
       " ADDRESS                        0\n",
       " STATE                          0\n",
       " MAIN_ADDRESS                   0\n",
       " ADMINISTRATIVE_AREA_LEVEL_2    0\n",
       " LOCALITY                       0\n",
       " SUBLOCALITY                    0\n",
       " STREET_NAME                    0\n",
       " LONG_NAME                      0\n",
       " FORMATTED_ADDRESS              0\n",
       " LATITUDE                       0\n",
       " LONGITUDE                      0\n",
       " dtype: int64,\n",
       " BROKERTITLE                    0\n",
       " TYPE                           0\n",
       " PRICE                          0\n",
       " BEDS                           0\n",
       " BATH                           0\n",
       " PROPERTYSQFT                   0\n",
       " ADDRESS                        0\n",
       " STATE                          0\n",
       " MAIN_ADDRESS                   0\n",
       " ADMINISTRATIVE_AREA_LEVEL_2    0\n",
       " LOCALITY                       0\n",
       " SUBLOCALITY                    0\n",
       " STREET_NAME                    0\n",
       " LONG_NAME                      0\n",
       " FORMATTED_ADDRESS              0\n",
       " LATITUDE                       0\n",
       " LONGITUDE                      0\n",
       " dtype: int64,\n",
       " BROKERTITLE                    0\n",
       " TYPE                           0\n",
       " PRICE                          0\n",
       " BEDS                           0\n",
       " BATH                           0\n",
       " PROPERTYSQFT                   0\n",
       " ADDRESS                        0\n",
       " STATE                          0\n",
       " MAIN_ADDRESS                   0\n",
       " ADMINISTRATIVE_AREA_LEVEL_2    0\n",
       " LOCALITY                       0\n",
       " SUBLOCALITY                    0\n",
       " STREET_NAME                    0\n",
       " LONG_NAME                      0\n",
       " FORMATTED_ADDRESS              0\n",
       " LATITUDE                       0\n",
       " LONGITUDE                      0\n",
       " dtype: int64)"
      ]
     },
     "execution_count": 25,
     "metadata": {},
     "output_type": "execute_result"
    }
   ],
   "source": [
    "# Проверяем наличие пропусков\n",
    "missing_values = train_data.isnull().sum()\n",
    "\n",
    "# Заполняем пропуски средним значением для числовых столбцов и модой для категориальных\n",
    "for column in train_data.columns:\n",
    "    if train_data[column].dtype in ['float64', 'int64']:\n",
    "        # Заполнение средним значением\n",
    "        train_data[column] = train_data[column].fillna(train_data[column].mean())\n",
    "        test_data[column] = test_data[column].fillna(train_data[column].mean())\n",
    "    else:\n",
    "        # Заполнение модой\n",
    "        train_data[column] = train_data[column].fillna(train_data[column].mode()[0])\n",
    "        test_data[column] = test_data[column].fillna(train_data[column].mode()[0])\n",
    "\n",
    "# Проверяем наличие пропусков после заполнения\n",
    "missing_values_after = train_data.isnull().sum()\n",
    "test_missing_values_after = test_data.isnull().sum()\n",
    "\n",
    "missing_values, missing_values_after, test_missing_values_after\n"
   ]
  },
  {
   "cell_type": "markdown",
   "id": "3361cd50-7cde-4356-96e4-6d9b720f5839",
   "metadata": {},
   "source": [
    "Была проведена проверка на наличие пропущенных значений в данных. Результаты показали, что в исходном датасете пропусков не было. Тем не менее, была реализована стратегия заполнения пропусков:\n",
    "Для числовых переменных: заполнение средним значением\n",
    "Для категориальных переменных: заполнение модой (наиболее часто встречающимся значением)\n",
    "После применения этой стратегии было подтверждено, что в обеих выборках (train и test) не осталось пропущенных значений."
   ]
  },
  {
   "cell_type": "markdown",
   "id": "5d200d2e-0e22-44c7-a7d9-34d4ce4fa286",
   "metadata": {},
   "source": [
    "C.Отнормировать численные переменные (StandardScaler, MinMaxScaler)."
   ]
  },
  {
   "cell_type": "code",
   "execution_count": 26,
   "id": "3d64298a-946f-4150-b3bd-45e76e2eedc1",
   "metadata": {
    "scrolled": true
   },
   "outputs": [
    {
     "data": {
      "text/plain": [
       "(      PRICE      BEDS      BATH  PROPERTYSQFT  LATITUDE  LONGITUDE\n",
       " 0 -0.063064 -0.905409 -0.690880     -0.001817  0.473555   2.089056\n",
       " 1 -0.065781 -0.905409 -0.690880     -0.001817  2.180879   0.364929\n",
       " 2 -0.056114 -0.520683 -0.191716     -0.001817  0.802158   1.646423\n",
       " 3 -0.054484 -0.135957 -0.690880     -0.277629 -0.094723   0.847189\n",
       " 4 -0.028172  0.633496  0.307447      0.181782  0.171254   0.373310,\n",
       "       PRICE      BEDS  BATH  PROPERTYSQFT  LATITUDE  LONGITUDE\n",
       " 0  0.000118  0.000000  0.02      0.029687  0.619618   0.946932\n",
       " 1  0.000073  0.000000  0.02      0.029687  0.981008   0.631915\n",
       " 2  0.000231  0.020408  0.04      0.029687  0.689174   0.866058\n",
       " 3  0.000257  0.040816  0.02      0.019268  0.499330   0.720029\n",
       " 4  0.000686  0.081633  0.06      0.036622  0.555630   0.633446)"
      ]
     },
     "execution_count": 26,
     "metadata": {},
     "output_type": "execute_result"
    }
   ],
   "source": [
    "from sklearn.preprocessing import StandardScaler, MinMaxScaler\n",
    "\n",
    "# Initialize scalers\n",
    "standard_scaler = StandardScaler()\n",
    "minmax_scaler = MinMaxScaler()\n",
    "\n",
    "# Select numerical columns\n",
    "numerical_cols = ['PRICE', 'BEDS', 'BATH', 'PROPERTYSQFT', 'LATITUDE', 'LONGITUDE']\n",
    "\n",
    "# Apply scalers to numerical data in train set\n",
    "train_standard_scaled = standard_scaler.fit_transform(train_data[numerical_cols])\n",
    "train_minmax_scaled = minmax_scaler.fit_transform(train_data[numerical_cols])\n",
    "\n",
    "# Apply scalers to numerical data in test set\n",
    "test_standard_scaled = standard_scaler.transform(test_data[numerical_cols])\n",
    "test_minmax_scaled = minmax_scaler.transform(test_data[numerical_cols])\n",
    "\n",
    "# Convert back to DataFrame for inspection\n",
    "scaled_train_standard = pd.DataFrame(train_standard_scaled, columns=numerical_cols).head()\n",
    "scaled_train_minmax = pd.DataFrame(train_minmax_scaled, columns=numerical_cols).head()\n",
    "scaled_train_standard, scaled_train_minmax\n"
   ]
  },
  {
   "cell_type": "markdown",
   "id": "4d1d3c0d-dc88-4e6b-b892-642a5331ab35",
   "metadata": {},
   "source": [
    "Для нормализации числовых переменных были использованы два метода:\n",
    "StandardScaler: нормализация с приведением к нулевому среднему и единичной дисперсии\n",
    "MinMaxScaler: масштабирование значений в диапазон [0, 1]\n",
    "Нормализация была применена к следующим числовым признакам: 'PRICE', 'BEDS', 'BATH', 'PROPERTYSQFT', 'LATITUDE', 'LONGITUDE'."
   ]
  },
  {
   "cell_type": "markdown",
   "id": "96177823-208d-4313-a76b-574e11dc5dc6",
   "metadata": {},
   "source": [
    "D.Закодировать категориальные признаки по одной из стратегий."
   ]
  },
  {
   "cell_type": "code",
   "execution_count": 27,
   "id": "b34d9e61-6fb9-44cf-951f-46efe65a3876",
   "metadata": {},
   "outputs": [
    {
     "data": {
      "text/plain": [
       "((3840, 1250), (961, 1250))"
      ]
     },
     "execution_count": 27,
     "metadata": {},
     "output_type": "execute_result"
    }
   ],
   "source": [
    "from sklearn.preprocessing import OneHotEncoder\n",
    "\n",
    "# Select categorical columns\n",
    "categorical_cols = ['BROKERTITLE', 'TYPE', 'STATE', 'LOCALITY', 'SUBLOCALITY']\n",
    "\n",
    "# Initialize OneHotEncoder\n",
    "encoder = OneHotEncoder(sparse_output=False, handle_unknown='ignore')\n",
    "\n",
    "# Fit and transform categorical columns in train set\n",
    "train_encoded = encoder.fit_transform(train_data[categorical_cols])\n",
    "\n",
    "# Transform categorical columns in test set\n",
    "test_encoded = encoder.transform(test_data[categorical_cols])\n",
    "\n",
    "# Check the shape of the encoded results\n",
    "train_encoded_shape = train_encoded.shape\n",
    "test_encoded_shape = test_encoded.shape\n",
    "train_encoded_shape, test_encoded_shape"
   ]
  },
  {
   "cell_type": "markdown",
   "id": "c4c35bc5-0eaa-4e47-beb6-0482842b2f68",
   "metadata": {},
   "source": [
    "Для кодирования категориальных признаков был использован метод One-Hot Encoding:\n",
    "Применен OneHotEncoder с параметрами sparse_output=False и handle_unknown='ignore'\n",
    "Кодирование выполнено для всех категориальных признаков в датасете\n",
    "Результаты кодирования:\n",
    "Тренировочная выборка: 3840 записей, 1250 признаков после кодирования\n",
    "Тестовая выборка: 961 запись, 1250 признаков после кодирования\n",
    "Таким образом, все этапы предобработки данных были успешно выполнены, подготовив датасет для дальнейшего анализа и моделирования."
   ]
  },
  {
   "cell_type": "markdown",
   "id": "35944c12-f5d5-4d18-b66e-ca4f946ef7f8",
   "metadata": {},
   "source": [
    "4.Оформить данные в виде класса Dataset из библиотеки torch (как мы это делали на семинаре), а затем засунуть в Dataloader (тоже делали на семинаре)."
   ]
  },
  {
   "cell_type": "code",
   "execution_count": 28,
   "id": "d0cebdf8-7633-4056-84d8-53b7d6b13ae6",
   "metadata": {},
   "outputs": [
    {
     "name": "stdout",
     "output_type": "stream",
     "text": [
      "Batch X shape: torch.Size([32, 349])\n",
      "Batch y shape: torch.Size([32, 1])\n"
     ]
    }
   ],
   "source": [
    "import torch\n",
    "from torch.utils.data import Dataset, DataLoader\n",
    "from sklearn.impute import SimpleImputer\n",
    "from sklearn.compose import ColumnTransformer\n",
    "\n",
    "# Разделение на признаки и целевую переменную\n",
    "X = data.drop('PRICE', axis=1)\n",
    "y = data['PRICE']\n",
    "\n",
    "# Разделение на train и test\n",
    "X_train, X_test, y_train, y_test = train_test_split(X, y, test_size=0.2, random_state=42)\n",
    "\n",
    "# Определение числовых и категориальных признаков\n",
    "numeric_features = ['BEDS', 'BATH', 'PROPERTYSQFT', 'LATITUDE', 'LONGITUDE']\n",
    "categorical_features = ['TYPE', 'STATE', 'ADMINISTRATIVE_AREA_LEVEL_2', 'LOCALITY']\n",
    "\n",
    "# Создание препроцессора\n",
    "preprocessor = ColumnTransformer(\n",
    "    transformers=[\n",
    "        ('num', StandardScaler(), numeric_features),\n",
    "        ('cat', OneHotEncoder(handle_unknown='ignore'), categorical_features)\n",
    "    ])\n",
    "\n",
    "# Применение препроцессора\n",
    "X_train_preprocessed = preprocessor.fit_transform(X_train)\n",
    "X_test_preprocessed = preprocessor.transform(X_test)\n",
    "\n",
    "class HouseDataset(Dataset):\n",
    "    def __init__(self, X, y):  # Corrected __init__ method\n",
    "        self.X = torch.FloatTensor(X.toarray() if hasattr(X, 'toarray') else X)  # Convert sparse to dense if necessary\n",
    "        self.y = torch.FloatTensor(y.values).reshape(-1, 1)  # Ensure y is a 2D tensor\n",
    "    \n",
    "    def __len__(self):  # Corrected __len__ method\n",
    "        return len(self.X)\n",
    "    \n",
    "    def __getitem__(self, idx):  # Corrected __getitem__ method\n",
    "        return self.X[idx], self.y[idx]\n",
    "\n",
    "# Assuming X_train_preprocessed and y_train are defined and preprocessed\n",
    "train_dataset = HouseDataset(X_train_preprocessed, y_train)\n",
    "test_dataset = HouseDataset(X_test_preprocessed, y_test)\n",
    "\n",
    "train_loader = DataLoader(train_dataset, batch_size=32, shuffle=True)\n",
    "test_loader = DataLoader(test_dataset, batch_size=32, shuffle=False)\n",
    "\n",
    "# Example usage\n",
    "for batch_X, batch_y in train_loader:\n",
    "    print(f\"Batch X shape: {batch_X.shape}\")\n",
    "    print(f\"Batch y shape: {batch_y.shape}\")\n",
    "    break"
   ]
  },
  {
   "cell_type": "markdown",
   "id": "4022422f-774b-4e50-bd70-a4b29917c3c8",
   "metadata": {},
   "source": [
    "5.Обучить на тренировочном множестве:"
   ]
  },
  {
   "cell_type": "markdown",
   "id": "f204c067-21e9-46a9-a9d8-35391edac253",
   "metadata": {},
   "source": [
    "A.Очень простую однослойную нейросеть с оптимизатором SGD (link)"
   ]
  },
  {
   "cell_type": "code",
   "execution_count": 29,
   "id": "1f963b97-c1ec-4759-bee4-5f3b01b81a30",
   "metadata": {},
   "outputs": [
    {
     "name": "stdout",
     "output_type": "stream",
     "text": [
      "Epoch [10/100], Train Loss: 1205469198242065.0000, Test Loss: 29962579307354.8398\n",
      "Epoch [20/100], Train Loss: 1190072807048260.2500, Test Loss: 18988710016429.4180\n",
      "Epoch [30/100], Train Loss: 1173866558792226.2500, Test Loss: 23327921744202.3242\n",
      "Epoch [40/100], Train Loss: 1161394354344209.0000, Test Loss: 18939654709512.2578\n",
      "Epoch [50/100], Train Loss: 1137523646149427.2500, Test Loss: 40034055301450.3203\n",
      "Epoch [60/100], Train Loss: 1126312580548744.5000, Test Loss: 18834378245681.5469\n",
      "Epoch [70/100], Train Loss: 1103918285786316.7500, Test Loss: 49826188163005.9375\n",
      "Epoch [80/100], Train Loss: 1095539044052718.8750, Test Loss: 19812213122873.8047\n",
      "Epoch [90/100], Train Loss: 1082253344975530.6250, Test Loss: 19954080424200.2578\n",
      "Epoch [100/100], Train Loss: 1066301105437627.7500, Test Loss: 37292137403028.6484\n"
     ]
    }
   ],
   "source": [
    "class SimpleNet(nn.Module):\n",
    "    def __init__(self, input_size):\n",
    "        super(SimpleNet, self).__init__()\n",
    "        self.linear = nn.Linear(input_size, 1)\n",
    "    \n",
    "    def forward(self, x):\n",
    "        return self.linear(x)\n",
    "        \n",
    "def train_model(model, optimizer, criterion, train_loader, test_loader, epochs=100):\n",
    "    train_losses = []\n",
    "    test_losses = []\n",
    "    \n",
    "    for epoch in range(epochs):\n",
    "        model.train()\n",
    "        train_loss = 0\n",
    "        for X_batch, y_batch in train_loader:\n",
    "            optimizer.zero_grad()\n",
    "            outputs = model(X_batch)\n",
    "            loss = criterion(outputs, y_batch)\n",
    "            loss.backward()\n",
    "            optimizer.step()\n",
    "            train_loss += loss.item()\n",
    "        \n",
    "        model.eval()\n",
    "        test_loss = 0\n",
    "        with torch.no_grad():\n",
    "            for X_batch, y_batch in test_loader:\n",
    "                outputs = model(X_batch)\n",
    "                loss = criterion(outputs, y_batch)\n",
    "                test_loss += loss.item()\n",
    "        \n",
    "        train_losses.append(train_loss / len(train_loader))\n",
    "        test_losses.append(test_loss / len(test_loader))\n",
    "        \n",
    "        if (epoch + 1) % 10 == 0:\n",
    "            print(f'Epoch [{epoch+1}/{epochs}], Train Loss: {train_losses[-1]:.4f}, Test Loss: {test_losses[-1]:.4f}')\n",
    "    \n",
    "    return train_losses, test_losses\n",
    "\n",
    "# Обучение моделей\n",
    "input_size = X_train_preprocessed.shape[1]\n",
    "\n",
    "simple_model = SimpleNet(input_size)\n",
    "simple_optimizer = optim.SGD(simple_model.parameters(), lr=0.01)\n",
    "simple_train_losses, simple_test_losses = train_model(simple_model, simple_optimizer, nn.MSELoss(), train_loader, test_loader)\n"
   ]
  },
  {
   "cell_type": "markdown",
   "id": "7c994992-9697-49a1-a6a1-9c9dcb09ba63",
   "metadata": {},
   "source": [
    "B.Нейросеть посложнее (с 1 скрытым слоем) с оптимизатором Adam (link)."
   ]
  },
  {
   "cell_type": "code",
   "execution_count": 30,
   "id": "a8b1bdc3-f8b9-4df5-8e95-71ac0fef9429",
   "metadata": {},
   "outputs": [
    {
     "name": "stdout",
     "output_type": "stream",
     "text": [
      "Epoch [10/100], Train Loss: 1228632261447953.0000, Test Loss: 28074036349258.3242\n",
      "Epoch [20/100], Train Loss: 1228630653711155.2500, Test Loss: 28072871095659.3555\n",
      "Epoch [30/100], Train Loss: 1228628484887893.2500, Test Loss: 28071186962630.1953\n",
      "Epoch [40/100], Train Loss: 1228625850585361.0000, Test Loss: 28069046677900.3867\n",
      "Epoch [50/100], Train Loss: 1228622359610982.5000, Test Loss: 28066498144850.5820\n",
      "Epoch [60/100], Train Loss: 1228618253809527.5000, Test Loss: 28063558180335.4844\n",
      "Epoch [70/100], Train Loss: 1228614044686199.5000, Test Loss: 28060203781483.3555\n",
      "Epoch [80/100], Train Loss: 1228608991597363.2500, Test Loss: 28056562259901.9336\n",
      "Epoch [90/100], Train Loss: 1228603740483311.0000, Test Loss: 28052400043173.1602\n",
      "Epoch [100/100], Train Loss: 1228597662432187.7500, Test Loss: 28047957482198.7109\n"
     ]
    }
   ],
   "source": [
    "class MediumNet(nn.Module):\n",
    "    def __init__(self, input_size):\n",
    "        super(MediumNet, self).__init__()\n",
    "        self.hidden = nn.Linear(input_size, 64)\n",
    "        self.output = nn.Linear(64, 1)\n",
    "        self.relu = nn.ReLU()\n",
    "    \n",
    "    def forward(self, x):\n",
    "        x = self.relu(self.hidden(x))\n",
    "        return self.output(x)\n",
    "\n",
    "medium_model = MediumNet(input_size)\n",
    "medium_optimizer = optim.Adam(medium_model.parameters(), lr=0.001)\n",
    "medium_train_losses, medium_test_losses = train_model(medium_model, medium_optimizer, nn.MSELoss(), train_loader, test_loader)\n"
   ]
  },
  {
   "cell_type": "markdown",
   "id": "bd0d5243-daca-4d40-808d-cf086beb2b68",
   "metadata": {},
   "source": [
    "C.Нейросеть еще сложнее (с 3+ скрытыми слоями) с оптимизатором Adam (link)."
   ]
  },
  {
   "cell_type": "code",
   "execution_count": 31,
   "id": "d6ec7c49-742f-4056-b31b-c3e5ac3e5657",
   "metadata": {},
   "outputs": [
    {
     "name": "stdout",
     "output_type": "stream",
     "text": [
      "Epoch [10/100], Train Loss: 1226596436138939.7500, Test Loss: 26321384488068.1289\n",
      "Epoch [20/100], Train Loss: 1219647428563217.0000, Test Loss: 22163266124238.4531\n",
      "Epoch [30/100], Train Loss: 1214846996932198.5000, Test Loss: 20094530064516.1289\n",
      "Epoch [40/100], Train Loss: 1211020680693896.5000, Test Loss: 18868141428339.6133\n",
      "Epoch [50/100], Train Loss: 1207924199271082.7500, Test Loss: 18101677553069.4180\n",
      "Epoch [60/100], Train Loss: 1205257338413602.2500, Test Loss: 17648714339427.0977\n",
      "Epoch [70/100], Train Loss: 1202900069482496.0000, Test Loss: 17363955216887.7422\n",
      "Epoch [80/100], Train Loss: 1200688036441839.0000, Test Loss: 17178079584024.7734\n",
      "Epoch [90/100], Train Loss: 1198512325825877.2500, Test Loss: 17045477939233.0332\n",
      "Epoch [100/100], Train Loss: 1196366237821610.7500, Test Loss: 16928992709142.1934\n"
     ]
    }
   ],
   "source": [
    "class ComplexNet(nn.Module):\n",
    "    def __init__(self, input_size):\n",
    "        super(ComplexNet, self).__init__()\n",
    "        self.hidden1 = nn.Linear(input_size, 128)\n",
    "        self.hidden2 = nn.Linear(128, 64)\n",
    "        self.hidden3 = nn.Linear(64, 32)\n",
    "        self.output = nn.Linear(32, 1)\n",
    "        self.relu = nn.ReLU()\n",
    "    \n",
    "    def forward(self, x):\n",
    "        x = self.relu(self.hidden1(x))\n",
    "        x = self.relu(self.hidden2(x))\n",
    "        x = self.relu(self.hidden3(x))\n",
    "        return self.output(x)\n",
    "\n",
    "complex_model = ComplexNet(input_size)\n",
    "complex_optimizer = optim.Adam(complex_model.parameters(), lr=0.001)\n",
    "complex_train_losses, complex_test_losses = train_model(complex_model, complex_optimizer, nn.MSELoss(), train_loader, test_loader)"
   ]
  },
  {
   "cell_type": "markdown",
   "id": "dc6ed624-4efc-4324-8d7d-e643cb51bc3d",
   "metadata": {},
   "source": [
    "6.Посчитайте loss на train и test множествах, в зависимости от эпохи обучения. Провизуализируйте это с помощью библиотеки matplotlib (выйдет так называемая learning curve, кривая обучения модели)."
   ]
  },
  {
   "cell_type": "code",
   "execution_count": 32,
   "id": "aa41e0fb-44ef-4971-870e-1c64565f07c9",
   "metadata": {},
   "outputs": [
    {
     "data": {
      "image/png": "[encoded data removed]",
      "text/plain": [
       "<Figure size 1000x600 with 1 Axes>"
      ]
     },
     "metadata": {},
     "output_type": "display_data"
    },
    {
     "data": {
      "image/png": "[encoded data removed]",
      "text/plain": [
       "<Figure size 1000x600 with 1 Axes>"
      ]
     },
     "metadata": {},
     "output_type": "display_data"
    },
    {
     "data": {
      "image/png": "[encoded data removed]",
      "text/plain": [
       "<Figure size 1000x600 with 1 Axes>"
      ]
     },
     "metadata": {},
     "output_type": "display_data"
    }
   ],
   "source": [
    "import matplotlib.pyplot as plt\n",
    "\n",
    "def plot_learning_curves(train_losses, test_losses, title):\n",
    "    plt.figure(figsize=(10, 6))\n",
    "    plt.plot(train_losses, label='Train Loss')\n",
    "    plt.plot(test_losses, label='Test Loss')\n",
    "    plt.title(title)\n",
    "    plt.xlabel('Epochs')\n",
    "    plt.ylabel('Loss')\n",
    "    plt.legend()\n",
    "    plt.show()\n",
    "\n",
    "plot_learning_curves(simple_train_losses, simple_test_losses, 'Simple Model Learning Curve')\n",
    "plot_learning_curves(medium_train_losses, medium_test_losses, 'Medium Model Learning Curve')\n",
    "plot_learning_curves(complex_train_losses, complex_test_losses, 'Complex Model Learning Curve')"
   ]
  },
  {
   "cell_type": "markdown",
   "id": "7ca9e912-380a-47e5-88e7-f3342c91fc89",
   "metadata": {},
   "source": [
    "Анализ кривых обучения\n",
    "Сходимость: Если обе кривые (train и test) постепенно снижаются и стабилизируются, это указывает на то, что модель успешно обучается.\n",
    "Переобучение: Если кривая train loss продолжает снижаться, а test loss начинает расти, это признак переобучения (overfitting).\n",
    "Недообучение: Если обе кривые остаются высокими и не показывают значительного улучшения, это может указывать на недообучение (underfitting).\n",
    "Оптимальное число эпох: Точка, где test loss начинает расти или перестает значительно уменьшаться, может указывать на оптимальное количество эпох для обучения."
   ]
  },
  {
   "cell_type": "markdown",
   "id": "9a2f3e1c-28e8-4f41-986c-6429dfafd07d",
   "metadata": {},
   "source": [
    "7.Посчитайте метрики на train и test множествах: B.Для задачи регрессии -- MAE "
   ]
  },
  {
   "cell_type": "code",
   "execution_count": 33,
   "id": "3aed6171-9500-4f53-9605-801e3287bf69",
   "metadata": {},
   "outputs": [
    {
     "name": "stdout",
     "output_type": "stream",
     "text": [
      "Simple Model - Train MAE: 2640191.0 Test MAE: 2228982.8\n",
      "Medium Model - Train MAE: 2460040.5 Test MAE: 1944936.8\n",
      "Complex Model - Train MAE: 2458417.0 Test MAE: 1943315.1\n"
     ]
    }
   ],
   "source": [
    "def calculate_mae(model, X, y):\n",
    "    model.eval()\n",
    "    with torch.no_grad():\n",
    "        predictions = model(X).numpy()\n",
    "    return mean_absolute_error(y.numpy(), predictions)\n",
    "\n",
    "simple_train_mae = calculate_mae(model_simple, X_train_tensor, y_train_tensor)\n",
    "simple_test_mae = calculate_mae(model_simple, torch.FloatTensor(X_test_scaled), torch.FloatTensor(y_test.values).reshape(-1, 1))\n",
    "\n",
    "medium_train_mae = calculate_mae(model_medium, X_train_tensor, y_train_tensor)\n",
    "medium_test_mae = calculate_mae(model_medium, torch.FloatTensor(X_test_scaled), torch.FloatTensor(y_test.values).reshape(-1, 1))\n",
    "\n",
    "complex_train_mae = calculate_mae(model_complex, X_train_tensor, y_train_tensor)\n",
    "complex_test_mae = calculate_mae(model_complex, torch.FloatTensor(X_test_scaled), torch.FloatTensor(y_test.values).reshape(-1, 1))\n",
    "\n",
    "print(\"Simple Model - Train MAE:\", simple_train_mae, \"Test MAE:\", simple_test_mae)\n",
    "print(\"Medium Model - Train MAE:\", medium_train_mae, \"Test MAE:\", medium_test_mae)\n",
    "print(\"Complex Model - Train MAE:\", complex_train_mae, \"Test MAE:\", complex_test_mae)"
   ]
  },
  {
   "cell_type": "code",
   "execution_count": null,
   "id": "3d7085eb-a7b7-48d1-9540-e7108b15cad1",
   "metadata": {},
   "outputs": [],
   "source": []
  },
  {
   "cell_type": "markdown",
   "id": "da934824-1cd4-4d96-b79f-a5b843fad67d",
   "metadata": {},
   "source": [
    "8.Сравните метрики относительно train/test, так и относительно разных моделей. Ответьте на следующие вопросы: A.Какая модель справилась лучше с поставленной задачей? B.Имеет ли место переобучение? C.Имеет ли место недообучение? D.Как можно улучшить метрики моделей?"
   ]
  },
  {
   "cell_type": "markdown",
   "id": "f76f4f09-5acd-4cc0-8b08-82a7b0af8994",
   "metadata": {},
   "source": [
    "A. Какая модель справилась лучше с поставленной задачей?\n",
    "Судя по значениям MAE на тестовом наборе, лучше всего справилась модель средней сложности (Medium Model). Она показала наименьшую ошибку на тестовых данных.\n",
    "B. Имеет ли место переобучение?\n",
    "Да, наблюдается некоторое переобучение, особенно у сложной модели (Complex Model). Это видно по значительной разнице между MAE на обучающем и тестовом наборах, а также по расхождению кривых обучения на графиках.\n",
    "C. Имеет ли место недообучение?\n",
    "Простая модель (Simple Model) может демонстрировать признаки недообучения, так как ее ошибка на обучающем и тестовом наборах выше, чем у более сложных моделей. Это говорит о том, что модель недостаточно сложна для захвата всех закономерностей в данных.\n",
    "D. Как можно улучшить метрики моделей?\n",
    "1.Попробовать другие архитектуры нейронных сетей, например, добавить больше слоев или использовать другие активационные функции.\n",
    "2.Провести более тщательную настройку гиперпараметров (learning rate, количество эпох, размер батча).\n",
    "3.Использовать регуляризацию (L1, L2) для борьбы с переобучением.\n",
    "4.Применить методы ансамблирования, например, бэггинг или бустинг.\n",
    "5.Провести более глубокий анализ признаков и, возможно, создать новые информативные признаки.\n",
    "6.Увеличить объем обучающих данных, если это возможно.\n",
    "7.Использовать кросс-валидацию для более надежной оценки производительности моделей."
   ]
  }
 ],
 "metadata": {
  "kernelspec": {
   "display_name": "Python 3 (ipykernel)",
   "language": "python",
   "name": "python3"
  },
  "language_info": {
   "codemirror_mode": {
    "name": "ipython",
    "version": 3
   },
   "file_extension": ".py",
   "mimetype": "text/x-python",
   "name": "python",
   "nbconvert_exporter": "python",
   "pygments_lexer": "ipython3",
   "version": "3.12.6"
  }
 },
 "nbformat": 4,
 "nbformat_minor": 5
}
